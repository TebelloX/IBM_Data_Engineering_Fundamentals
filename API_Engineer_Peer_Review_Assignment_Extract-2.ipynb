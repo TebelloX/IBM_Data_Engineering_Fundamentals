{
 "cells": [
  {
   "cell_type": "markdown",
   "metadata": {},
   "source": [
    "<center>\n",
    "    <img src=\"https://gitlab.com/ibm/skills-network/courses/placeholder101/-/raw/master/labs/module%201/images/IDSNlogo.png\" width=\"300\" alt=\"cognitiveclass.ai logo\"  />\n",
    "</center>\n"
   ]
  },
  {
   "cell_type": "markdown",
   "metadata": {},
   "source": [
    "# Peer Review Assignment - Data Engineer - Extract API Data\n"
   ]
  },
  {
   "cell_type": "markdown",
   "metadata": {},
   "source": [
    "Estimated time needed: **20** minutes\n"
   ]
  },
  {
   "cell_type": "markdown",
   "metadata": {},
   "source": [
    "## Objectives\n",
    "\n",
    "In this part you will:\n",
    "\n",
    "-   Collect exchange rate data using an API\n",
    "-   Store the data as a CSV\n"
   ]
  },
  {
   "cell_type": "markdown",
   "metadata": {},
   "source": [
    "For this lab, we are going to be using Python and several Python libraries. Some of these libraries might be installed in your lab environment or in SN Labs. Others may need to be installed by you. The cells below will install these libraries when executed.\n"
   ]
  },
  {
   "cell_type": "code",
   "execution_count": null,
   "metadata": {},
   "outputs": [],
   "source": [
    "#!pip install pandas\n",
    "#!pip install requests"
   ]
  },
  {
   "cell_type": "markdown",
   "metadata": {},
   "source": [
    "## Imports\n",
    "\n",
    "Import any additional libraries you may need here.\n"
   ]
  },
  {
   "cell_type": "code",
   "execution_count": 1,
   "metadata": {},
   "outputs": [],
   "source": [
    "import requests\n",
    "import pandas as pd"
   ]
  },
  {
   "cell_type": "markdown",
   "metadata": {},
   "source": [
    "## Extract Data Using an API\n"
   ]
  },
  {
   "cell_type": "markdown",
   "metadata": {},
   "source": [
    "Using ExchangeRate-API we will extract currency exchange rate data. Use the below steps to get the access key and to get the data. \n",
    "\n",
    "1.  Open the url : [https://api.exchangeratesapi.io/](https://api.exchangeratesapi.io?cm_mmc=Email_Newsletter-_-Developer_Ed%2BTech-_-WW_WW-_-SkillsNetwork-Courses-IBMDeveloperSkillsNetwork-PY0221EN-SkillsNetwork-23455645&cm_mmca1=000026UJ&cm_mmca2=10006555&cm_mmca3=M12345678&cvosrc=email.Newsletter.M12345678&cvo_campaign=000026UJ&cm_mmc=Email_Newsletter-_-Developer_Ed%2BTech-_-WW_WW-_-SkillsNetwork-Courses-IBMDeveloperSkillsNetwork-PY0221EN-SkillsNetwork-23455645&cm_mmca1=000026UJ&cm_mmca2=10006555&cm_mmca3=M12345678&cvosrc=email.Newsletter.M12345678&cvo_campaign=000026UJ) and create a free account. \n",
    "2.  Once the account is created. You will get the Get the Free API key option on the top as shown below:\n",
    "\n",
    "<img src=\"https://cf-courses-data.s3.us.cloud-object-storage.appdomain.cloud/IBMDeveloperSkillsNetwork-PY0221EN-SkillsNetwork/labs/module%206/Final%20Assignment/Images/getapi.png\"/>\n",
    "\n",
    "3.  Copy the API key and use in the url in Question 1.\n"
   ]
  },
  {
   "cell_type": "markdown",
   "metadata": {},
   "source": [
    "### Call the API\n",
    "\n",
    " <b> Question 1</b> Using the `requests` library call the endpoint given above and save the text, remember the first few characters of the output: \n"
   ]
  },
  {
   "cell_type": "code",
   "execution_count": 33,
   "metadata": {},
   "outputs": [],
   "source": [
    "# Write your code here\n",
    "url = \"http://data.fixer.io/api/latest?access_key=1338cf5d09dc633c8ec2ddfc73eb0b8e\"  #Make sure to change ******* to your API key.\n",
    "#Live: http://api.currencylayer.com/live?access_key=0435cde5efb80063dc844795ed97ec0f\n",
    "#Still: http://data.fixer.io/api/latest?access_key=1338cf5d09dc633c8ec2ddfc73eb0b8e\n",
    "#Note: A different website was used. https://currencylayer.com/quickstart\n",
    "data  = requests.get(url).text "
   ]
  },
  {
   "cell_type": "code",
   "execution_count": 34,
   "metadata": {},
   "outputs": [
    {
     "data": {
      "text/plain": [
       "'{\"success\":true,\"timestamp\":1627424464,\"base\":\"EUR\",\"date\":\"2021-07-27\",\"rates\":{\"AED\":4.340741,\"AFN'"
      ]
     },
     "execution_count": 34,
     "metadata": {},
     "output_type": "execute_result"
    }
   ],
   "source": [
    "data[0:100]"
   ]
  },
  {
   "cell_type": "code",
   "execution_count": 35,
   "metadata": {},
   "outputs": [],
   "source": [
    "import json\n",
    "data_dict = json.loads(data)"
   ]
  },
  {
   "cell_type": "code",
   "execution_count": 36,
   "metadata": {},
   "outputs": [
    {
     "data": {
      "text/plain": [
       "{'success': True,\n",
       " 'timestamp': 1627424464,\n",
       " 'base': 'EUR',\n",
       " 'date': '2021-07-27',\n",
       " 'rates': {'AED': 4.340741,\n",
       "  'AFN': 94.71575,\n",
       "  'ALL': 121.77722,\n",
       "  'AMD': 569.926121,\n",
       "  'ANG': 2.121424,\n",
       "  'AOA': 755.127553,\n",
       "  'ARS': 114.116269,\n",
       "  'AUD': 1.605702,\n",
       "  'AWG': 2.12771,\n",
       "  'AZN': 2.008496,\n",
       "  'BAM': 1.96038,\n",
       "  'BBD': 2.386339,\n",
       "  'BDT': 100.230854,\n",
       "  'BGN': 1.956973,\n",
       "  'BHD': 0.445571,\n",
       "  'BIF': 2345.739558,\n",
       "  'BMD': 1.181733,\n",
       "  'BND': 1.608005,\n",
       "  'BOB': 8.160841,\n",
       "  'BRL': 6.109327,\n",
       "  'BSD': 1.181843,\n",
       "  'BTC': 3.0878907e-05,\n",
       "  'BTN': 87.971435,\n",
       "  'BWP': 13.175981,\n",
       "  'BYN': 2.974504,\n",
       "  'BYR': 23161.962385,\n",
       "  'BZD': 2.382329,\n",
       "  'CAD': 1.489503,\n",
       "  'CDF': 2363.465991,\n",
       "  'CHF': 1.080692,\n",
       "  'CLF': 0.03289,\n",
       "  'CLP': 907.523145,\n",
       "  'CNY': 7.694501,\n",
       "  'COP': 4646.57327,\n",
       "  'CRC': 732.830884,\n",
       "  'CUC': 1.181733,\n",
       "  'CUP': 31.315919,\n",
       "  'CVE': 111.348764,\n",
       "  'CZK': 25.699615,\n",
       "  'DJF': 210.017605,\n",
       "  'DKK': 7.437625,\n",
       "  'DOP': 67.536306,\n",
       "  'DZD': 159.196597,\n",
       "  'EGP': 18.542209,\n",
       "  'ERN': 17.731013,\n",
       "  'ETB': 52.291373,\n",
       "  'EUR': 1,\n",
       "  'FJD': 2.472305,\n",
       "  'FKP': 0.85411,\n",
       "  'GBP': 0.851326,\n",
       "  'GEL': 3.645657,\n",
       "  'GGP': 0.85411,\n",
       "  'GHS': 7.054711,\n",
       "  'GIP': 0.85411,\n",
       "  'GMD': 60.445491,\n",
       "  'GNF': 11586.889784,\n",
       "  'GTQ': 9.156552,\n",
       "  'GYD': 247.263894,\n",
       "  'HKD': 9.200239,\n",
       "  'HNL': 28.385137,\n",
       "  'HRK': 7.504362,\n",
       "  'HTG': 113.347076,\n",
       "  'HUF': 359.370845,\n",
       "  'IDR': 17141.802024,\n",
       "  'ILS': 3.845866,\n",
       "  'IMP': 0.85411,\n",
       "  'INR': 88.092864,\n",
       "  'IQD': 1725.329851,\n",
       "  'IRR': 49756.858559,\n",
       "  'ISK': 149.004828,\n",
       "  'JEP': 0.85411,\n",
       "  'JMD': 182.673846,\n",
       "  'JOD': 0.837861,\n",
       "  'JPY': 129.725921,\n",
       "  'KES': 128.21129,\n",
       "  'KGS': 99.922832,\n",
       "  'KHR': 4809.65213,\n",
       "  'KMF': 491.778399,\n",
       "  'KPW': 1063.559505,\n",
       "  'KRW': 1364.313087,\n",
       "  'KWD': 0.355346,\n",
       "  'KYD': 0.984685,\n",
       "  'KZT': 502.877166,\n",
       "  'LAK': 11309.183017,\n",
       "  'LBP': 1783.890972,\n",
       "  'LKR': 235.190782,\n",
       "  'LRD': 202.905676,\n",
       "  'LSL': 17.566469,\n",
       "  'LTL': 3.489349,\n",
       "  'LVL': 0.714818,\n",
       "  'LYD': 5.341142,\n",
       "  'MAD': 10.569122,\n",
       "  'MDL': 21.240599,\n",
       "  'MGA': 4508.310369,\n",
       "  'MKD': 61.622798,\n",
       "  'MMK': 1945.346744,\n",
       "  'MNT': 3365.710332,\n",
       "  'MOP': 9.473628,\n",
       "  'MRO': 421.878397,\n",
       "  'MUR': 50.347857,\n",
       "  'MVR': 18.257875,\n",
       "  'MWK': 945.386525,\n",
       "  'MXN': 23.611984,\n",
       "  'MYR': 5.000506,\n",
       "  'MZN': 75.193682,\n",
       "  'NAD': 17.572814,\n",
       "  'NGN': 486.286789,\n",
       "  'NIO': 41.716538,\n",
       "  'NOK': 10.494455,\n",
       "  'NPR': 140.754497,\n",
       "  'NZD': 1.698563,\n",
       "  'OMR': 0.45502,\n",
       "  'PAB': 1.181643,\n",
       "  'PEN': 4.639483,\n",
       "  'PGK': 4.177402,\n",
       "  'PHP': 59.920355,\n",
       "  'PKR': 190.672273,\n",
       "  'PLN': 4.597372,\n",
       "  'PYG': 8172.869042,\n",
       "  'QAR': 4.301546,\n",
       "  'RON': 4.91743,\n",
       "  'RSD': 117.848524,\n",
       "  'RUB': 87.129749,\n",
       "  'RWF': 1181.732775,\n",
       "  'SAR': 4.433211,\n",
       "  'SBD': 9.526387,\n",
       "  'SCR': 17.760839,\n",
       "  'SDG': 527.640836,\n",
       "  'SEK': 10.188161,\n",
       "  'SGD': 1.607877,\n",
       "  'SHP': 0.85411,\n",
       "  'SLL': 12118.669748,\n",
       "  'SOS': 691.313763,\n",
       "  'SRD': 25.322156,\n",
       "  'STD': 24343.487213,\n",
       "  'SVC': 10.338997,\n",
       "  'SYP': 1485.87031,\n",
       "  'SZL': 17.571826,\n",
       "  'THB': 38.926653,\n",
       "  'TJS': 13.479285,\n",
       "  'TMT': 4.136065,\n",
       "  'TND': 3.297623,\n",
       "  'TOP': 2.670303,\n",
       "  'TRY': 10.120767,\n",
       "  'TTD': 8.034047,\n",
       "  'TWD': 33.134486,\n",
       "  'TZS': 2740.760901,\n",
       "  'UAH': 31.76252,\n",
       "  'UGX': 4203.957289,\n",
       "  'USD': 1.181733,\n",
       "  'UYU': 51.7186,\n",
       "  'UZS': 12609.088888,\n",
       "  'VEF': 252690181972.75262,\n",
       "  'VND': 27187.535083,\n",
       "  'VUV': 130.130878,\n",
       "  'WST': 3.015376,\n",
       "  'XAF': 657.491368,\n",
       "  'XAG': 0.047827,\n",
       "  'XAU': 0.000657,\n",
       "  'XCD': 3.193692,\n",
       "  'XDR': 0.83134,\n",
       "  'XOF': 655.861983,\n",
       "  'XPF': 119.886647,\n",
       "  'YER': 295.491952,\n",
       "  'ZAR': 17.477118,\n",
       "  'ZMK': 10637.015833,\n",
       "  'ZMW': 22.485087,\n",
       "  'ZWL': 380.518236}}"
      ]
     },
     "execution_count": 36,
     "metadata": {},
     "output_type": "execute_result"
    }
   ],
   "source": [
    "data_dict"
   ]
  },
  {
   "cell_type": "markdown",
   "metadata": {},
   "source": [
    "### Save as DataFrame\n",
    "\n",
    " <b> Question 2</b>  Using the data gathered turn it into a `pandas` dataframe. The dataframe should have the Currency as the index and `Rate` as their columns. Make sure to drop unnecessary columns.\n"
   ]
  },
  {
   "cell_type": "code",
   "execution_count": 47,
   "metadata": {},
   "outputs": [
    {
     "data": {
      "text/html": [
       "<div>\n",
       "<style scoped>\n",
       "    .dataframe tbody tr th:only-of-type {\n",
       "        vertical-align: middle;\n",
       "    }\n",
       "\n",
       "    .dataframe tbody tr th {\n",
       "        vertical-align: top;\n",
       "    }\n",
       "\n",
       "    .dataframe thead th {\n",
       "        text-align: right;\n",
       "    }\n",
       "</style>\n",
       "<table border=\"1\" class=\"dataframe\">\n",
       "  <thead>\n",
       "    <tr style=\"text-align: right;\">\n",
       "      <th></th>\n",
       "      <th>success</th>\n",
       "      <th>timestamp</th>\n",
       "      <th>base</th>\n",
       "      <th>date</th>\n",
       "      <th>rates</th>\n",
       "    </tr>\n",
       "  </thead>\n",
       "  <tbody>\n",
       "    <tr>\n",
       "      <th>AED</th>\n",
       "      <td>True</td>\n",
       "      <td>1627424464</td>\n",
       "      <td>EUR</td>\n",
       "      <td>2021-07-27</td>\n",
       "      <td>4.340741</td>\n",
       "    </tr>\n",
       "    <tr>\n",
       "      <th>AFN</th>\n",
       "      <td>True</td>\n",
       "      <td>1627424464</td>\n",
       "      <td>EUR</td>\n",
       "      <td>2021-07-27</td>\n",
       "      <td>94.715750</td>\n",
       "    </tr>\n",
       "    <tr>\n",
       "      <th>ALL</th>\n",
       "      <td>True</td>\n",
       "      <td>1627424464</td>\n",
       "      <td>EUR</td>\n",
       "      <td>2021-07-27</td>\n",
       "      <td>121.777220</td>\n",
       "    </tr>\n",
       "    <tr>\n",
       "      <th>AMD</th>\n",
       "      <td>True</td>\n",
       "      <td>1627424464</td>\n",
       "      <td>EUR</td>\n",
       "      <td>2021-07-27</td>\n",
       "      <td>569.926121</td>\n",
       "    </tr>\n",
       "    <tr>\n",
       "      <th>ANG</th>\n",
       "      <td>True</td>\n",
       "      <td>1627424464</td>\n",
       "      <td>EUR</td>\n",
       "      <td>2021-07-27</td>\n",
       "      <td>2.121424</td>\n",
       "    </tr>\n",
       "  </tbody>\n",
       "</table>\n",
       "</div>"
      ],
      "text/plain": [
       "     success   timestamp base        date       rates\n",
       "AED     True  1627424464  EUR  2021-07-27    4.340741\n",
       "AFN     True  1627424464  EUR  2021-07-27   94.715750\n",
       "ALL     True  1627424464  EUR  2021-07-27  121.777220\n",
       "AMD     True  1627424464  EUR  2021-07-27  569.926121\n",
       "ANG     True  1627424464  EUR  2021-07-27    2.121424"
      ]
     },
     "execution_count": 47,
     "metadata": {},
     "output_type": "execute_result"
    }
   ],
   "source": [
    "# Turn the data into a dataframe\n",
    "new_df=pd.DataFrame(data_dict)\n",
    "new_df.head()"
   ]
  },
  {
   "cell_type": "code",
   "execution_count": 48,
   "metadata": {},
   "outputs": [
    {
     "data": {
      "text/html": [
       "<div>\n",
       "<style scoped>\n",
       "    .dataframe tbody tr th:only-of-type {\n",
       "        vertical-align: middle;\n",
       "    }\n",
       "\n",
       "    .dataframe tbody tr th {\n",
       "        vertical-align: top;\n",
       "    }\n",
       "\n",
       "    .dataframe thead th {\n",
       "        text-align: right;\n",
       "    }\n",
       "</style>\n",
       "<table border=\"1\" class=\"dataframe\">\n",
       "  <thead>\n",
       "    <tr style=\"text-align: right;\">\n",
       "      <th></th>\n",
       "      <th>rates</th>\n",
       "      <th>base</th>\n",
       "      <th>date</th>\n",
       "    </tr>\n",
       "  </thead>\n",
       "  <tbody>\n",
       "    <tr>\n",
       "      <th>AED</th>\n",
       "      <td>4.340741</td>\n",
       "      <td>EUR</td>\n",
       "      <td>2021-07-27</td>\n",
       "    </tr>\n",
       "    <tr>\n",
       "      <th>AFN</th>\n",
       "      <td>94.715750</td>\n",
       "      <td>EUR</td>\n",
       "      <td>2021-07-27</td>\n",
       "    </tr>\n",
       "    <tr>\n",
       "      <th>ALL</th>\n",
       "      <td>121.777220</td>\n",
       "      <td>EUR</td>\n",
       "      <td>2021-07-27</td>\n",
       "    </tr>\n",
       "    <tr>\n",
       "      <th>AMD</th>\n",
       "      <td>569.926121</td>\n",
       "      <td>EUR</td>\n",
       "      <td>2021-07-27</td>\n",
       "    </tr>\n",
       "    <tr>\n",
       "      <th>ANG</th>\n",
       "      <td>2.121424</td>\n",
       "      <td>EUR</td>\n",
       "      <td>2021-07-27</td>\n",
       "    </tr>\n",
       "  </tbody>\n",
       "</table>\n",
       "</div>"
      ],
      "text/plain": [
       "          rates base        date\n",
       "AED    4.340741  EUR  2021-07-27\n",
       "AFN   94.715750  EUR  2021-07-27\n",
       "ALL  121.777220  EUR  2021-07-27\n",
       "AMD  569.926121  EUR  2021-07-27\n",
       "ANG    2.121424  EUR  2021-07-27"
      ]
     },
     "execution_count": 48,
     "metadata": {},
     "output_type": "execute_result"
    }
   ],
   "source": [
    "# Drop unnescessary columns\n",
    "new_df=new_df[[\"rates\",\"base\",\"date\"]]\n",
    "new_df.head()"
   ]
  },
  {
   "cell_type": "markdown",
   "metadata": {},
   "source": [
    "### Load the Data\n",
    "\n",
    "Using the dataframe save it as a CSV names `exchange_rates_1.csv`.\n"
   ]
  },
  {
   "cell_type": "code",
   "execution_count": 20,
   "metadata": {},
   "outputs": [],
   "source": [
    "# Save the Dataframe\n",
    "new_df.to_csv(\"exchange_rates_1.csv\")"
   ]
  },
  {
   "cell_type": "markdown",
   "metadata": {},
   "source": [
    "Your CSV should be in this format with more currencies\n",
    "\n",
    "|     | Rates      |\n",
    "| --- | ---------- |\n",
    "| AED | 4.398618   |\n",
    "| AFN | 92.917693  |\n",
    "| ALL | 123.099093 |\n",
    "| AMD | 621.935674 |\n",
    "| ANG | 2.149648   |\n"
   ]
  },
  {
   "cell_type": "markdown",
   "metadata": {},
   "source": [
    "## Authors\n"
   ]
  },
  {
   "cell_type": "markdown",
   "metadata": {},
   "source": [
    "Ramesh Sannareddy, Joseph Santarcangelo and Azim Hirjani\n"
   ]
  },
  {
   "cell_type": "markdown",
   "metadata": {},
   "source": [
    "### Other Contributors\n"
   ]
  },
  {
   "cell_type": "markdown",
   "metadata": {},
   "source": [
    "Rav Ahuja\n"
   ]
  },
  {
   "cell_type": "markdown",
   "metadata": {},
   "source": [
    "## Change Log\n"
   ]
  },
  {
   "cell_type": "markdown",
   "metadata": {},
   "source": [
    "| Date (YYYY-MM-DD) | Version | Changed By        | Change Description                 |\n",
    "| ----------------- | ------- | ----------------- | ---------------------------------- |\n",
    "| 2021-04-15        | 0.2     | Malika            | Updated the lab from USD to EUR    |\n",
    "| 2020-11-25        | 0.1     | Ramesh Sannareddy | Created initial version of the lab |\n"
   ]
  },
  {
   "cell_type": "markdown",
   "metadata": {},
   "source": [
    " Copyright © 2020 IBM Corporation. This notebook and its source code are released under the terms of the [MIT License](https://cognitiveclass.ai/mit-license?cm_mmc=Email_Newsletter-_-Developer_Ed%2BTech-_-WW_WW-_-SkillsNetwork-Courses-IBM-DA0321EN-SkillsNetwork-21426264&cm_mmca1=000026UJ&cm_mmca2=10006555&cm_mmca3=M12345678&cvosrc=email.Newsletter.M12345678&cvo_campaign=000026UJ&cm_mmc=Email_Newsletter-_-Developer_Ed%2BTech-_-WW_WW-_-SkillsNetwork-Courses-IBM-DA0321EN-SkillsNetwork-21426264&cm_mmca1=000026UJ&cm_mmca2=10006555&cm_mmca3=M12345678&cvosrc=email.Newsletter.M12345678&cvo_campaign=000026UJ&cm_mmc=Email_Newsletter-_-Developer_Ed%2BTech-_-WW_WW-_-SkillsNetwork-Courses-IBM-DA0321EN-SkillsNetwork-21426264&cm_mmca1=000026UJ&cm_mmca2=10006555&cm_mmca3=M12345678&cvosrc=email.Newsletter.M12345678&cvo_campaign=000026UJ&cm_mmc=Email_Newsletter-_-Developer_Ed%2BTech-_-WW_WW-_-SkillsNetwork-Courses-IBM-DA0321EN-SkillsNetwork-21426264&cm_mmca1=000026UJ&cm_mmca2=10006555&cm_mmca3=M12345678&cvosrc=email.Newsletter.M12345678&cvo_campaign=000026UJ&cm_mmc=Email_Newsletter-_-Developer_Ed%2BTech-_-WW_WW-_-SkillsNetwork-Courses-IBMDeveloperSkillsNetwork-PY0221EN-SkillsNetwork-23455645&cm_mmca1=000026UJ&cm_mmca2=10006555&cm_mmca3=M12345678&cvosrc=email.Newsletter.M12345678&cvo_campaign=000026UJ&cm_mmc=Email_Newsletter-_-Developer_Ed%2BTech-_-WW_WW-_-SkillsNetwork-Courses-IBMDeveloperSkillsNetwork-PY0221EN-SkillsNetwork-23455645&cm_mmca1=000026UJ&cm_mmca2=10006555&cm_mmca3=M12345678&cvosrc=email.Newsletter.M12345678&cvo_campaign=000026UJ).\n"
   ]
  }
 ],
 "metadata": {
  "kernelspec": {
   "display_name": "Python 3",
   "language": "python",
   "name": "python3"
  },
  "language_info": {
   "codemirror_mode": {
    "name": "ipython",
    "version": 3
   },
   "file_extension": ".py",
   "mimetype": "text/x-python",
   "name": "python",
   "nbconvert_exporter": "python",
   "pygments_lexer": "ipython3",
   "version": "3.7.4"
  }
 },
 "nbformat": 4,
 "nbformat_minor": 4
}

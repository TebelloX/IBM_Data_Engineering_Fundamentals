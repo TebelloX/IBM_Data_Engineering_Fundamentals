{
 "cells": [
  {
   "cell_type": "markdown",
   "metadata": {},
   "source": [
    "<center>\n",
    "    <img src=\"https://gitlab.com/ibm/skills-network/courses/placeholder101/-/raw/master/labs/module%201/images/IDSNlogo.png\" width=\"300\" alt=\"cognitiveclass.ai logo\"  />\n",
    "</center>\n"
   ]
  },
  {
   "cell_type": "markdown",
   "metadata": {},
   "source": [
    "# Peer Review Assignment - Data Engineer - Webscraping\n"
   ]
  },
  {
   "cell_type": "markdown",
   "metadata": {},
   "source": [
    "Estimated time needed: **20** minutes\n"
   ]
  },
  {
   "cell_type": "markdown",
   "metadata": {},
   "source": [
    "## Objectives\n",
    "\n",
    "In this part you will:\n",
    "\n",
    "-   Use webscraping to get bank information\n"
   ]
  },
  {
   "cell_type": "markdown",
   "metadata": {},
   "source": [
    "For this lab, we are going to be using Python and several Python libraries. Some of these libraries might be installed in your lab environment or in SN Labs. Others may need to be installed by you. The cells below will install these libraries when executed.\n"
   ]
  },
  {
   "cell_type": "code",
   "execution_count": 2,
   "metadata": {},
   "outputs": [
    {
     "name": "stdout",
     "output_type": "stream",
     "text": [
      "Collecting bs4\n",
      "  Downloading https://files.pythonhosted.org/packages/10/ed/7e8b97591f6f456174139ec089c769f89a94a1a4025fe967691de971f314/bs4-0.0.1.tar.gz\n",
      "Collecting beautifulsoup4 (from bs4)\n",
      "\u001b[?25l  Downloading https://files.pythonhosted.org/packages/d1/41/e6495bd7d3781cee623ce23ea6ac73282a373088fcd0ddc809a047b18eae/beautifulsoup4-4.9.3-py3-none-any.whl (115kB)\n",
      "\u001b[K     |████████████████████████████████| 122kB 18.4MB/s eta 0:00:01\n",
      "\u001b[?25hCollecting soupsieve>1.2; python_version >= \"3.0\" (from beautifulsoup4->bs4)\n",
      "  Downloading https://files.pythonhosted.org/packages/36/69/d82d04022f02733bf9a72bc3b96332d360c0c5307096d76f6bb7489f7e57/soupsieve-2.2.1-py3-none-any.whl\n",
      "Building wheels for collected packages: bs4\n",
      "  Building wheel for bs4 (setup.py) ... \u001b[?25ldone\n",
      "\u001b[?25h  Stored in directory: /home/jupyterlab/.cache/pip/wheels/a0/b0/b2/4f80b9456b87abedbc0bf2d52235414c3467d8889be38dd472\n",
      "Successfully built bs4\n",
      "Installing collected packages: soupsieve, beautifulsoup4, bs4\n",
      "Successfully installed beautifulsoup4-4.9.3 bs4-0.0.1 soupsieve-2.2.1\n"
     ]
    }
   ],
   "source": [
    "#!pip install pandas\n",
    "!pip install bs4\n",
    "#!pip install requests"
   ]
  },
  {
   "cell_type": "markdown",
   "metadata": {},
   "source": [
    "## Imports\n",
    "\n",
    "Import any additional libraries you may need here.\n"
   ]
  },
  {
   "cell_type": "code",
   "execution_count": 3,
   "metadata": {},
   "outputs": [],
   "source": [
    "from bs4 import BeautifulSoup\n",
    "import requests\n",
    "import pandas as pd"
   ]
  },
  {
   "cell_type": "markdown",
   "metadata": {},
   "source": [
    "## Extract Data Using Web Scraping\n"
   ]
  },
  {
   "cell_type": "markdown",
   "metadata": {},
   "source": [
    "The wikipedia webpage [https://en.wikipedia.org/wiki/List_of_largest_banks](https://en.wikipedia.org/wiki/List_of_largest_banks?cm_mmc=Email_Newsletter-_-Developer_Ed%2BTech-_-WW_WW-_-SkillsNetwork-Courses-IBMDeveloperSkillsNetwork-PY0221EN-SkillsNetwork-23455645&cm_mmca1=000026UJ&cm_mmca2=10006555&cm_mmca3=M12345678&cvosrc=email.Newsletter.M12345678&cvo_campaign=000026UJ&cm_mmc=Email_Newsletter-_-Developer_Ed%2BTech-_-WW_WW-_-SkillsNetwork-Courses-IBMDeveloperSkillsNetwork-PY0221EN-SkillsNetwork-23455645&cm_mmca1=000026UJ&cm_mmca2=10006555&cm_mmca3=M12345678&cvosrc=email.Newsletter.M12345678&cvo_campaign=000026UJ) provides information about largest banks in the world by various parameters. Scrape the data from the table 'By market capitalization' and store it in a JSON file.\n"
   ]
  },
  {
   "cell_type": "markdown",
   "metadata": {},
   "source": [
    "### Webpage Contents\n",
    "\n",
    "Gather the contents of the webpage in text format using the `requests` library and assign it to the variable <code>html_data</code>\n"
   ]
  },
  {
   "cell_type": "code",
   "execution_count": 4,
   "metadata": {},
   "outputs": [],
   "source": [
    "#Write your code here\n",
    "url = \"https://en.wikipedia.org/wiki/List_of_largest_banks\"\n",
    "data  = requests.get(url).text \n",
    "soup = BeautifulSoup(data,\"html5lib\")  # create a soup object using the variable 'data'"
   ]
  },
  {
   "cell_type": "code",
   "execution_count": 7,
   "metadata": {},
   "outputs": [],
   "source": [
    "#print(soup.prettify())"
   ]
  },
  {
   "cell_type": "markdown",
   "metadata": {},
   "source": [
    "<b>Question 1</b> Print out the output of the following line, and remember it as it will be a quiz question:\n"
   ]
  },
  {
   "cell_type": "code",
   "execution_count": 6,
   "metadata": {},
   "outputs": [
    {
     "data": {
      "text/plain": [
       "'List of largest banks -'"
      ]
     },
     "execution_count": 6,
     "metadata": {},
     "output_type": "execute_result"
    }
   ],
   "source": [
    "data[101:124]"
   ]
  },
  {
   "cell_type": "markdown",
   "metadata": {},
   "source": [
    "### Scraping the Data\n",
    "\n",
    "<b> Question 2</b> Using the contents and `beautiful soup` load the data from the `By market capitalization` table into a `pandas` dataframe. The dataframe should have the country `Name` and `Market Cap (US$ Billion)` as column names.  Display the first five rows using head. \n"
   ]
  },
  {
   "cell_type": "markdown",
   "metadata": {},
   "source": [
    "Using BeautifulSoup parse the contents of the webpage.\n"
   ]
  },
  {
   "cell_type": "code",
   "execution_count": 8,
   "metadata": {},
   "outputs": [],
   "source": [
    "#Replace the dots below\n",
    "soup=BeautifulSoup(data,\"html5lib\")  # create a soup object using the variable 'data'"
   ]
  },
  {
   "cell_type": "markdown",
   "metadata": {},
   "source": [
    "Load the data from the `By market capitalization` table into a pandas dataframe. The dataframe should have the country `Name` and `Market Cap (US$ Billion)` as column names. Using the empty dataframe `data` and the given loop extract the necessary data from each row and append it to the empty dataframe.\n"
   ]
  },
  {
   "cell_type": "code",
   "execution_count": 35,
   "metadata": {},
   "outputs": [],
   "source": [
    "data = pd.DataFrame(columns=[\"Name\", \"Market_Cap (US$ Billion)\"])\n",
    "\n",
    "for row in soup.find_all('tbody')[3].find_all('tr'):\n",
    "    col = row.find_all('td')\n",
    "    if (col != []):\n",
    "        Name = col[1].text\n",
    "        Market_Cap = col[2].text\n",
    "        data = data.append({\"Name\":Name, \"Market_Cap (US$ Billion)\":Market_Cap}, ignore_index=True)\n",
    "        \n",
    "    #Write your code here\n",
    "\n",
    "#population_data = pd.DataFrame(columns=[\"Rank\", \"Country\", \"Population\", \"Area\", \"Density\"])\n",
    "#for row in tables[table_index].tbody.find_all(\"tr\"):\n",
    "#    col = row.find_all(\"td\")\n",
    "#    if (col != []):\n",
    "#        Name = col[0].text\n",
    "#        Market_Cap = col[1].text\n",
    "#        population = col[2].text.strip()\n",
    "#        area = col[3].text.strip()\n",
    "#        density = col[4].text.strip()\n",
    "#        population_data = population_data.append({\"Rank\":rank, \"Country\":country, \"Population\":population, \"Area\":area, \"Density\":density}, ignore_index=True)\n",
    "\n"
   ]
  },
  {
   "cell_type": "code",
   "execution_count": 36,
   "metadata": {},
   "outputs": [
    {
     "data": {
      "text/html": [
       "<div>\n",
       "<style scoped>\n",
       "    .dataframe tbody tr th:only-of-type {\n",
       "        vertical-align: middle;\n",
       "    }\n",
       "\n",
       "    .dataframe tbody tr th {\n",
       "        vertical-align: top;\n",
       "    }\n",
       "\n",
       "    .dataframe thead th {\n",
       "        text-align: right;\n",
       "    }\n",
       "</style>\n",
       "<table border=\"1\" class=\"dataframe\">\n",
       "  <thead>\n",
       "    <tr style=\"text-align: right;\">\n",
       "      <th></th>\n",
       "      <th>Name</th>\n",
       "      <th>Market_Cap (US$ Billion)</th>\n",
       "    </tr>\n",
       "  </thead>\n",
       "  <tbody>\n",
       "    <tr>\n",
       "      <th>0</th>\n",
       "      <td>JPMorgan Chase\\n</td>\n",
       "      <td>387.492\\n</td>\n",
       "    </tr>\n",
       "    <tr>\n",
       "      <th>1</th>\n",
       "      <td>Industrial and Commercial Bank of China\\n</td>\n",
       "      <td>345.214\\n</td>\n",
       "    </tr>\n",
       "    <tr>\n",
       "      <th>2</th>\n",
       "      <td>Bank of America\\n</td>\n",
       "      <td>325.331\\n</td>\n",
       "    </tr>\n",
       "    <tr>\n",
       "      <th>3</th>\n",
       "      <td>Wells Fargo\\n</td>\n",
       "      <td>308.013\\n</td>\n",
       "    </tr>\n",
       "    <tr>\n",
       "      <th>4</th>\n",
       "      <td>China Construction Bank\\n</td>\n",
       "      <td>257.399\\n</td>\n",
       "    </tr>\n",
       "    <tr>\n",
       "      <th>...</th>\n",
       "      <td>...</td>\n",
       "      <td>...</td>\n",
       "    </tr>\n",
       "    <tr>\n",
       "      <th>65</th>\n",
       "      <td>Ping An Bank\\n</td>\n",
       "      <td>37.993\\n</td>\n",
       "    </tr>\n",
       "    <tr>\n",
       "      <th>66</th>\n",
       "      <td>Standard Chartered\\n</td>\n",
       "      <td>37.319\\n</td>\n",
       "    </tr>\n",
       "    <tr>\n",
       "      <th>67</th>\n",
       "      <td>United Overseas Bank\\n</td>\n",
       "      <td>35.128\\n</td>\n",
       "    </tr>\n",
       "    <tr>\n",
       "      <th>68</th>\n",
       "      <td>QNB Group\\n</td>\n",
       "      <td>33.560\\n</td>\n",
       "    </tr>\n",
       "    <tr>\n",
       "      <th>69</th>\n",
       "      <td>Bank Rakyat Indonesia\\n</td>\n",
       "      <td>33.081\\n</td>\n",
       "    </tr>\n",
       "  </tbody>\n",
       "</table>\n",
       "<p>70 rows × 2 columns</p>\n",
       "</div>"
      ],
      "text/plain": [
       "                                          Name Market_Cap (US$ Billion)\n",
       "0                             JPMorgan Chase\\n                387.492\\n\n",
       "1    Industrial and Commercial Bank of China\\n                345.214\\n\n",
       "2                            Bank of America\\n                325.331\\n\n",
       "3                                Wells Fargo\\n                308.013\\n\n",
       "4                    China Construction Bank\\n                257.399\\n\n",
       "..                                         ...                      ...\n",
       "65                              Ping An Bank\\n                 37.993\\n\n",
       "66                        Standard Chartered\\n                 37.319\\n\n",
       "67                      United Overseas Bank\\n                 35.128\\n\n",
       "68                                 QNB Group\\n                 33.560\\n\n",
       "69                     Bank Rakyat Indonesia\\n                 33.081\\n\n",
       "\n",
       "[70 rows x 2 columns]"
      ]
     },
     "execution_count": 36,
     "metadata": {},
     "output_type": "execute_result"
    }
   ],
   "source": [
    "data"
   ]
  },
  {
   "cell_type": "markdown",
   "metadata": {},
   "source": [
    "**Question 3** Display the first five rows using the `head` function.\n"
   ]
  },
  {
   "cell_type": "code",
   "execution_count": 37,
   "metadata": {},
   "outputs": [
    {
     "data": {
      "text/html": [
       "<div>\n",
       "<style scoped>\n",
       "    .dataframe tbody tr th:only-of-type {\n",
       "        vertical-align: middle;\n",
       "    }\n",
       "\n",
       "    .dataframe tbody tr th {\n",
       "        vertical-align: top;\n",
       "    }\n",
       "\n",
       "    .dataframe thead th {\n",
       "        text-align: right;\n",
       "    }\n",
       "</style>\n",
       "<table border=\"1\" class=\"dataframe\">\n",
       "  <thead>\n",
       "    <tr style=\"text-align: right;\">\n",
       "      <th></th>\n",
       "      <th>Name</th>\n",
       "      <th>Market_Cap (US$ Billion)</th>\n",
       "    </tr>\n",
       "  </thead>\n",
       "  <tbody>\n",
       "    <tr>\n",
       "      <th>0</th>\n",
       "      <td>JPMorgan Chase\\n</td>\n",
       "      <td>387.492\\n</td>\n",
       "    </tr>\n",
       "    <tr>\n",
       "      <th>1</th>\n",
       "      <td>Industrial and Commercial Bank of China\\n</td>\n",
       "      <td>345.214\\n</td>\n",
       "    </tr>\n",
       "    <tr>\n",
       "      <th>2</th>\n",
       "      <td>Bank of America\\n</td>\n",
       "      <td>325.331\\n</td>\n",
       "    </tr>\n",
       "    <tr>\n",
       "      <th>3</th>\n",
       "      <td>Wells Fargo\\n</td>\n",
       "      <td>308.013\\n</td>\n",
       "    </tr>\n",
       "    <tr>\n",
       "      <th>4</th>\n",
       "      <td>China Construction Bank\\n</td>\n",
       "      <td>257.399\\n</td>\n",
       "    </tr>\n",
       "  </tbody>\n",
       "</table>\n",
       "</div>"
      ],
      "text/plain": [
       "                                         Name Market_Cap (US$ Billion)\n",
       "0                            JPMorgan Chase\\n                387.492\\n\n",
       "1   Industrial and Commercial Bank of China\\n                345.214\\n\n",
       "2                           Bank of America\\n                325.331\\n\n",
       "3                               Wells Fargo\\n                308.013\\n\n",
       "4                   China Construction Bank\\n                257.399\\n"
      ]
     },
     "execution_count": 37,
     "metadata": {},
     "output_type": "execute_result"
    }
   ],
   "source": [
    "#Write your code here\n",
    "data.head()"
   ]
  },
  {
   "cell_type": "code",
   "execution_count": 41,
   "metadata": {},
   "outputs": [],
   "source": [
    "data['Name'] = data['Name'].str.replace('\\n','')\n",
    "data['Market_Cap (US$ Billion)'] = data['Market_Cap (US$ Billion)'].str.replace('\\n','').astype(float)\n"
   ]
  },
  {
   "cell_type": "code",
   "execution_count": 43,
   "metadata": {},
   "outputs": [
    {
     "data": {
      "text/html": [
       "<div>\n",
       "<style scoped>\n",
       "    .dataframe tbody tr th:only-of-type {\n",
       "        vertical-align: middle;\n",
       "    }\n",
       "\n",
       "    .dataframe tbody tr th {\n",
       "        vertical-align: top;\n",
       "    }\n",
       "\n",
       "    .dataframe thead th {\n",
       "        text-align: right;\n",
       "    }\n",
       "</style>\n",
       "<table border=\"1\" class=\"dataframe\">\n",
       "  <thead>\n",
       "    <tr style=\"text-align: right;\">\n",
       "      <th></th>\n",
       "      <th>Name</th>\n",
       "      <th>Market_Cap (US$ Billion)</th>\n",
       "    </tr>\n",
       "  </thead>\n",
       "  <tbody>\n",
       "    <tr>\n",
       "      <th>0</th>\n",
       "      <td>JPMorgan Chase</td>\n",
       "      <td>387.492</td>\n",
       "    </tr>\n",
       "    <tr>\n",
       "      <th>1</th>\n",
       "      <td>Industrial and Commercial Bank of China</td>\n",
       "      <td>345.214</td>\n",
       "    </tr>\n",
       "    <tr>\n",
       "      <th>2</th>\n",
       "      <td>Bank of America</td>\n",
       "      <td>325.331</td>\n",
       "    </tr>\n",
       "    <tr>\n",
       "      <th>3</th>\n",
       "      <td>Wells Fargo</td>\n",
       "      <td>308.013</td>\n",
       "    </tr>\n",
       "    <tr>\n",
       "      <th>4</th>\n",
       "      <td>China Construction Bank</td>\n",
       "      <td>257.399</td>\n",
       "    </tr>\n",
       "  </tbody>\n",
       "</table>\n",
       "</div>"
      ],
      "text/plain": [
       "                                       Name  Market_Cap (US$ Billion)\n",
       "0                            JPMorgan Chase                   387.492\n",
       "1   Industrial and Commercial Bank of China                   345.214\n",
       "2                           Bank of America                   325.331\n",
       "3                               Wells Fargo                   308.013\n",
       "4                   China Construction Bank                   257.399"
      ]
     },
     "execution_count": 43,
     "metadata": {},
     "output_type": "execute_result"
    }
   ],
   "source": [
    "data.head()"
   ]
  },
  {
   "cell_type": "code",
   "execution_count": 44,
   "metadata": {},
   "outputs": [
    {
     "data": {
      "text/html": [
       "<div>\n",
       "<style scoped>\n",
       "    .dataframe tbody tr th:only-of-type {\n",
       "        vertical-align: middle;\n",
       "    }\n",
       "\n",
       "    .dataframe tbody tr th {\n",
       "        vertical-align: top;\n",
       "    }\n",
       "\n",
       "    .dataframe thead th {\n",
       "        text-align: right;\n",
       "    }\n",
       "</style>\n",
       "<table border=\"1\" class=\"dataframe\">\n",
       "  <thead>\n",
       "    <tr style=\"text-align: right;\">\n",
       "      <th></th>\n",
       "      <th>Name</th>\n",
       "      <th>Market_Cap (US$ Billion)</th>\n",
       "    </tr>\n",
       "  </thead>\n",
       "  <tbody>\n",
       "    <tr>\n",
       "      <th>0</th>\n",
       "      <td>JPMorgan Chase</td>\n",
       "      <td>387.492</td>\n",
       "    </tr>\n",
       "    <tr>\n",
       "      <th>1</th>\n",
       "      <td>Industrial and Commercial Bank of China</td>\n",
       "      <td>345.214</td>\n",
       "    </tr>\n",
       "    <tr>\n",
       "      <th>2</th>\n",
       "      <td>Bank of America</td>\n",
       "      <td>325.331</td>\n",
       "    </tr>\n",
       "    <tr>\n",
       "      <th>3</th>\n",
       "      <td>Wells Fargo</td>\n",
       "      <td>308.013</td>\n",
       "    </tr>\n",
       "    <tr>\n",
       "      <th>4</th>\n",
       "      <td>China Construction Bank</td>\n",
       "      <td>257.399</td>\n",
       "    </tr>\n",
       "    <tr>\n",
       "      <th>...</th>\n",
       "      <td>...</td>\n",
       "      <td>...</td>\n",
       "    </tr>\n",
       "    <tr>\n",
       "      <th>65</th>\n",
       "      <td>Ping An Bank</td>\n",
       "      <td>37.993</td>\n",
       "    </tr>\n",
       "    <tr>\n",
       "      <th>66</th>\n",
       "      <td>Standard Chartered</td>\n",
       "      <td>37.319</td>\n",
       "    </tr>\n",
       "    <tr>\n",
       "      <th>67</th>\n",
       "      <td>United Overseas Bank</td>\n",
       "      <td>35.128</td>\n",
       "    </tr>\n",
       "    <tr>\n",
       "      <th>68</th>\n",
       "      <td>QNB Group</td>\n",
       "      <td>33.560</td>\n",
       "    </tr>\n",
       "    <tr>\n",
       "      <th>69</th>\n",
       "      <td>Bank Rakyat Indonesia</td>\n",
       "      <td>33.081</td>\n",
       "    </tr>\n",
       "  </tbody>\n",
       "</table>\n",
       "<p>70 rows × 2 columns</p>\n",
       "</div>"
      ],
      "text/plain": [
       "                                        Name  Market_Cap (US$ Billion)\n",
       "0                             JPMorgan Chase                   387.492\n",
       "1    Industrial and Commercial Bank of China                   345.214\n",
       "2                            Bank of America                   325.331\n",
       "3                                Wells Fargo                   308.013\n",
       "4                    China Construction Bank                   257.399\n",
       "..                                       ...                       ...\n",
       "65                              Ping An Bank                    37.993\n",
       "66                        Standard Chartered                    37.319\n",
       "67                      United Overseas Bank                    35.128\n",
       "68                                 QNB Group                    33.560\n",
       "69                     Bank Rakyat Indonesia                    33.081\n",
       "\n",
       "[70 rows x 2 columns]"
      ]
     },
     "execution_count": 44,
     "metadata": {},
     "output_type": "execute_result"
    }
   ],
   "source": [
    "data"
   ]
  },
  {
   "cell_type": "markdown",
   "metadata": {},
   "source": [
    "### Loading the Data\n",
    "\n",
    "Usually you will Load the `pandas` dataframe created above into a JSON named `bank_market_cap.json` using the `to_json()` function, but this time the data will be sent to another team who will split the data file into two files and inspect it. If you save the data it will interfere with the next part of the assignment.\n"
   ]
  },
  {
   "cell_type": "code",
   "execution_count": 20,
   "metadata": {},
   "outputs": [],
   "source": [
    "#Write your code here\n",
    "data.to_json(\"bank_market_cap.json\")"
   ]
  },
  {
   "cell_type": "code",
   "execution_count": 21,
   "metadata": {},
   "outputs": [],
   "source": [
    "import json"
   ]
  },
  {
   "cell_type": "code",
   "execution_count": 23,
   "metadata": {},
   "outputs": [],
   "source": [
    "with open (\"bank_market_cap.json\",'r')  as openfile:\n",
    "    json_object=json.load(openfile)"
   ]
  },
  {
   "cell_type": "code",
   "execution_count": 24,
   "metadata": {},
   "outputs": [
    {
     "data": {
      "text/plain": [
       "{'Name': {'0': ' JPMorgan Chase\\n',\n",
       "  '1': ' Industrial and Commercial Bank of China\\n',\n",
       "  '2': ' Bank of America\\n',\n",
       "  '3': ' Wells Fargo\\n',\n",
       "  '4': ' China Construction Bank\\n',\n",
       "  '5': ' HSBC Holdings PLC\\n',\n",
       "  '6': ' Agricultural Bank of China\\n',\n",
       "  '7': ' Citigroup Inc.\\n',\n",
       "  '8': ' Bank of China\\n',\n",
       "  '9': ' China Merchants Bank\\n',\n",
       "  '10': ' Royal Bank of Canada\\n',\n",
       "  '11': ' Banco Santander\\n',\n",
       "  '12': ' Commonwealth Bank\\n',\n",
       "  '13': ' Mitsubishi UFJ Financial Group\\n',\n",
       "  '14': ' Toronto-Dominion Bank\\n',\n",
       "  '15': ' HDFC Bank\\n',\n",
       "  '16': ' Goldman Sachs\\n',\n",
       "  '17': ' Sberbank of Russia\\n',\n",
       "  '18': ' Morgan Stanley\\n',\n",
       "  '19': ' U.S. Bancorp\\n',\n",
       "  '20': ' BNP Paribas\\n',\n",
       "  '21': ' Itaú Unibanco\\n',\n",
       "  '22': ' Westpac\\n',\n",
       "  '23': ' Scotiabank\\n',\n",
       "  '24': ' ING Group\\n',\n",
       "  '25': ' UBS\\n',\n",
       "  '26': ' Charles Schwab\\n',\n",
       "  '27': ' PNC Financial Services\\n',\n",
       "  '28': ' Lloyds Banking Group\\n',\n",
       "  '29': ' Sumitomo Mitsui Financial Group\\n',\n",
       "  '30': ' Bank of Communications\\n',\n",
       "  '31': ' Australia and New Zealand Banking Group\\n',\n",
       "  '32': ' Banco Bradesco\\n',\n",
       "  '33': ' National Australia Bank\\n',\n",
       "  '34': ' Intesa Sanpaolo\\n',\n",
       "  '35': ' Banco Bilbao Vizcaya Argentaria\\n',\n",
       "  '36': ' Japan Post Bank\\n',\n",
       "  '37': ' The Bank of New York Mellon\\n',\n",
       "  '38': ' Shanghai Pudong Development Bank\\n',\n",
       "  '39': ' Industrial Bank (China)\\n',\n",
       "  '40': ' Bank of China (Hong Kong)\\n',\n",
       "  '41': ' Bank of Montreal\\n',\n",
       "  '42': ' Crédit Agricole\\n',\n",
       "  '43': ' DBS Bank\\n',\n",
       "  '44': ' Nordea\\n',\n",
       "  '45': ' Capital One\\n',\n",
       "  '46': ' NatWest Group\\n',\n",
       "  '47': ' Mizuho Financial Group\\n',\n",
       "  '48': ' Credit Suisse\\n',\n",
       "  '49': ' Postal Savings Bank of China\\n',\n",
       "  '50': ' China Minsheng Bank\\n',\n",
       "  '51': ' UniCredit\\n',\n",
       "  '52': ' China CITIC Bank\\n',\n",
       "  '53': ' Hang Seng Bank\\n',\n",
       "  '54': ' Société Générale\\n',\n",
       "  '55': ' Barclays\\n',\n",
       "  '56': ' Canadian Imperial Bank of Commerce\\n',\n",
       "  '57': ' Bank Central Asia\\n',\n",
       "  '58': ' Truist Financial\\n',\n",
       "  '59': ' Oversea-Chinese Banking Corp\\n',\n",
       "  '60': ' State Bank of India\\n',\n",
       "  '61': ' State Street\\n',\n",
       "  '62': ' Deutsche Bank\\n',\n",
       "  '63': ' KBC Bank\\n',\n",
       "  '64': ' Danske Bank\\n',\n",
       "  '65': ' Ping An Bank\\n',\n",
       "  '66': ' Standard Chartered\\n',\n",
       "  '67': ' United Overseas Bank\\n',\n",
       "  '68': ' QNB Group\\n',\n",
       "  '69': ' Bank Rakyat Indonesia\\n'},\n",
       " 'Market_Cap (US$ Billion)': {'0': '387.492\\n',\n",
       "  '1': '345.214\\n',\n",
       "  '2': '325.331\\n',\n",
       "  '3': '308.013\\n',\n",
       "  '4': '257.399\\n',\n",
       "  '5': '219.270\\n',\n",
       "  '6': '203.244\\n',\n",
       "  '7': '203.165\\n',\n",
       "  '8': '181.469\\n',\n",
       "  '9': '122.616\\n',\n",
       "  '10': '122.564\\n',\n",
       "  '11': '115.696\\n',\n",
       "  '12': '112.227\\n',\n",
       "  '13': '111.660\\n',\n",
       "  '14': '108.449\\n',\n",
       "  '15': '134.4\\n',\n",
       "  '16': '100.705\\n',\n",
       "  '17': '99.840\\n',\n",
       "  '18': '99.651\\n',\n",
       "  '19': '94.558\\n',\n",
       "  '20': '93.329\\n',\n",
       "  '21': '86.203\\n',\n",
       "  '22': '84.560\\n',\n",
       "  '23': '78.947\\n',\n",
       "  '24': '78.920\\n',\n",
       "  '25': '75.482\\n',\n",
       "  '26': '74.255\\n',\n",
       "  '27': '72.246\\n',\n",
       "  '28': '71.253\\n',\n",
       "  '29': '67.328\\n',\n",
       "  '30': '67.078\\n',\n",
       "  '31': '66.448\\n',\n",
       "  '32': '64.816\\n',\n",
       "  '33': '63.794\\n',\n",
       "  '34': '62.032\\n',\n",
       "  '35': '60.678\\n',\n",
       "  '36': '60.525\\n',\n",
       "  '37': '59.823\\n',\n",
       "  '38': '58.796\\n',\n",
       "  '39': '57.388\\n',\n",
       "  '40': '55.449\\n',\n",
       "  '41': '53.181\\n',\n",
       "  '42': '52.141\\n',\n",
       "  '43': '51.475\\n',\n",
       "  '44': '51.185\\n',\n",
       "  '45': '51.107\\n',\n",
       "  '46': '50.490\\n',\n",
       "  '47': '50.018\\n',\n",
       "  '48': '48.462\\n',\n",
       "  '49': '47.948\\n',\n",
       "  '50': '47.921\\n',\n",
       "  '51': '47.777\\n',\n",
       "  '52': '47.451\\n',\n",
       "  '53': '46.171\\n',\n",
       "  '54': '46.051\\n',\n",
       "  '55': '45.850\\n',\n",
       "  '56': '43.544\\n',\n",
       "  '57': '43.344\\n',\n",
       "  '58': '41.923\\n',\n",
       "  '59': '41.362\\n',\n",
       "  '60': '40.562\\n',\n",
       "  '61': '39.769\\n',\n",
       "  '62': '38.649\\n',\n",
       "  '63': '38.394\\n',\n",
       "  '64': '38.223\\n',\n",
       "  '65': '37.993\\n',\n",
       "  '66': '37.319\\n',\n",
       "  '67': '35.128\\n',\n",
       "  '68': '33.560\\n',\n",
       "  '69': '33.081\\n'}}"
      ]
     },
     "execution_count": 24,
     "metadata": {},
     "output_type": "execute_result"
    }
   ],
   "source": [
    "json_object"
   ]
  },
  {
   "cell_type": "markdown",
   "metadata": {},
   "source": [
    "## Authors\n"
   ]
  },
  {
   "cell_type": "markdown",
   "metadata": {},
   "source": [
    "Ramesh Sannareddy, Joseph Santarcangelo and Azim Hirjani\n"
   ]
  },
  {
   "cell_type": "markdown",
   "metadata": {},
   "source": [
    "### Other Contributors\n"
   ]
  },
  {
   "cell_type": "markdown",
   "metadata": {},
   "source": [
    "Rav Ahuja\n"
   ]
  },
  {
   "cell_type": "markdown",
   "metadata": {},
   "source": [
    "## Change Log\n"
   ]
  },
  {
   "cell_type": "markdown",
   "metadata": {},
   "source": [
    "| Date (YYYY-MM-DD) | Version | Changed By        | Change Description                 |\n",
    "| ----------------- | ------- | ----------------- | ---------------------------------- |\n",
    "| 2020-11-25        | 0.1     | Ramesh Sannareddy | Created initial version of the lab |\n"
   ]
  },
  {
   "cell_type": "markdown",
   "metadata": {},
   "source": [
    "Copyright © 2020 IBM Corporation.\n"
   ]
  }
 ],
 "metadata": {
  "kernelspec": {
   "display_name": "Python 3",
   "language": "python",
   "name": "python3"
  },
  "language_info": {
   "codemirror_mode": {
    "name": "ipython",
    "version": 3
   },
   "file_extension": ".py",
   "mimetype": "text/x-python",
   "name": "python",
   "nbconvert_exporter": "python",
   "pygments_lexer": "ipython3",
   "version": "3.7.4"
  }
 },
 "nbformat": 4,
 "nbformat_minor": 4
}
